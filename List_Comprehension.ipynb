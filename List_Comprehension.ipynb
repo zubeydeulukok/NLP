{
 "cells": [
  {
   "cell_type": "markdown",
   "id": "4e318df4",
   "metadata": {},
   "source": [
    "# List Comprehensions"
   ]
  },
  {
   "cell_type": "markdown",
   "id": "b616ba06",
   "metadata": {},
   "source": [
    "**List comprehension constructs offer a shorter syntax when you want to create a new list based on the values of an existing list. It is a type of writing in which for loops and if structures are used together on a single line, which is preferred due to its readability and simple appearance.**"
   ]
  },
  {
   "cell_type": "markdown",
   "id": "b9c1a8ec",
   "metadata": {},
   "source": [
    "##  [expression(output)(body: code) <font color=red>for</font> item <font color=red>in</font> iterable]\n",
    "\n",
    "## [expression(output)(body: code bloğu) <font color=red>for</font> item <font color=red>in</font> iterable <font color=red>if</font> condition]\n",
    "\n",
    "## [expression (output) / body1 <font color=red>if</font> condition <font color=red>else</font> expression/body 2 <font color=red>for</font> item <font color=red>in</font> iterable]"
   ]
  },
  {
   "cell_type": "markdown",
   "id": "614da2a5",
   "metadata": {},
   "source": [
    "```python\n",
    "for item in iterable:\n",
    "    if condition :\n",
    "        expression\n",
    "        \n",
    "        \n",
    "[expression for item in iterable if condition]\n",
    "```"
   ]
  },
  {
   "cell_type": "code",
   "execution_count": 1,
   "id": "2aefd4d6",
   "metadata": {},
   "outputs": [
    {
     "name": "stdout",
     "output_type": "stream",
     "text": [
      "[1, 9, 25]\n"
     ]
    }
   ],
   "source": [
    "my_list = [1, 2, 3, 4, 5, 6]\n",
    "new_list = []\n",
    "\n",
    "for x in my_list :\n",
    "    if x % 2 != 0:\n",
    "        new_list.append(x**2) \n",
    "print(new_list)"
   ]
  },
  {
   "cell_type": "code",
   "execution_count": 2,
   "id": "16f50557",
   "metadata": {},
   "outputs": [
    {
     "data": {
      "text/plain": [
       "[1, 4, 9, 16, 25, 36]"
      ]
     },
     "execution_count": 2,
     "metadata": {},
     "output_type": "execute_result"
    }
   ],
   "source": [
    "# as an example of the first use \n",
    "[x**2 for x in my_list]"
   ]
  },
  {
   "cell_type": "code",
   "execution_count": 4,
   "id": "bfd6da93",
   "metadata": {},
   "outputs": [
    {
     "data": {
      "text/plain": [
       "[1, 9, 25]"
      ]
     },
     "execution_count": 4,
     "metadata": {},
     "output_type": "execute_result"
    }
   ],
   "source": [
    "# with if statement\n",
    "[x**2 for x in my_list if x%2 != 0]"
   ]
  },
  {
   "cell_type": "code",
   "execution_count": 9,
   "id": "b28ce3c8",
   "metadata": {},
   "outputs": [
    {
     "name": "stdout",
     "output_type": "stream",
     "text": [
      "['APPLE', 'BANANA', 'CHERRY', 'KIWI', 'MANGO']\n",
      "\n",
      "['apple', 'cherry', 'mango']\n",
      "\n",
      "['apple', 'orange', 'cherry', 'kiwi', 'mango']\n"
     ]
    }
   ],
   "source": [
    "fruits = [\"apple\", \"banana\", \"cherry\", \"kiwi\", \"mango\"]\n",
    "\n",
    "newlist0 = [x.upper() for x in fruits]\n",
    "print(newlist0, end=2*\"\\n\")\n",
    "\n",
    "newlist1 = [x for x in fruits if x != \"banana\" and x !=\"kiwi\"]\n",
    "print(newlist1, end=2*\"\\n\")\n",
    "\n",
    "newlist2 = [x if x != \"banana\" else \"orange\" for x in fruits]\n",
    "print(newlist2)"
   ]
  },
  {
   "cell_type": "markdown",
   "id": "aaefb4b4",
   "metadata": {},
   "source": [
    "# Nested List Comprehensions in Python"
   ]
  },
  {
   "cell_type": "markdown",
   "id": "72ecd5fc",
   "metadata": {},
   "source": [
    "List Comprehensions are one of the most amazing features of Python. It is a smart and concise way of creating lists ***by iterating over an iterable object***. Nested List Comprehensions are nothing but a list comprehension within another list comprehension which is quite similar to nested for loops."
   ]
  },
  {
   "cell_type": "code",
   "execution_count": 10,
   "id": "2a442457",
   "metadata": {},
   "outputs": [
    {
     "name": "stdout",
     "output_type": "stream",
     "text": [
      "[[0, 1, 2, 3, 4], [0, 1, 2, 3, 4], [0, 1, 2, 3, 4], [0, 1, 2, 3, 4], [0, 1, 2, 3, 4]]\n"
     ]
    }
   ],
   "source": [
    "matrix = [] \n",
    "  \n",
    "for i in range(5):\n",
    "    matrix.append([])  \n",
    "    for j in range(5):\n",
    "        matrix[i].append(j)  \n",
    "          \n",
    "print(matrix)"
   ]
  },
  {
   "cell_type": "code",
   "execution_count": 11,
   "id": "c3e64fff",
   "metadata": {},
   "outputs": [
    {
     "name": "stdout",
     "output_type": "stream",
     "text": [
      "[[0, 1, 2, 3, 4], [0, 1, 2, 3, 4], [0, 1, 2, 3, 4], [0, 1, 2, 3, 4], [0, 1, 2, 3, 4]]\n"
     ]
    }
   ],
   "source": [
    "matrix = [[j for j in range(5)] for i in range(5)]\n",
    "print(matrix)"
   ]
  },
  {
   "cell_type": "markdown",
   "id": "cde29422",
   "metadata": {},
   "source": [
    "matrix = [[1, 2, 3], [4, 5, 6], [7, 8, 9]]\n",
    "\n",
    "Expected Output: flatten_matrix = [1, 2, 3, 4, 5, 6, 7, 8, 9]"
   ]
  },
  {
   "cell_type": "code",
   "execution_count": 12,
   "id": "b9c1ada0",
   "metadata": {},
   "outputs": [
    {
     "data": {
      "text/plain": [
       "[1, 2, 3, 4, 5, 6, 7, 8, 9]"
      ]
     },
     "execution_count": 12,
     "metadata": {},
     "output_type": "execute_result"
    }
   ],
   "source": [
    "matrix = [[1, 2, 3], [4, 5, 6], [7, 8, 9]]\n",
    "flatten_matrix = [j for i in matrix for j in i]  \n",
    "flatten_matrix"
   ]
  },
  {
   "cell_type": "code",
   "execution_count": 13,
   "id": "41d94c47",
   "metadata": {},
   "outputs": [
    {
     "name": "stdout",
     "output_type": "stream",
     "text": [
      "[1, 2, 3, 4, 5, 6, 7, 8, 9]\n"
     ]
    }
   ],
   "source": [
    "matrix = [[1, 2, 3], [4, 5], [6, 7, 8, 9]]\n",
    "  \n",
    "flatten_matrix = []\n",
    "  \n",
    "for sublist in matrix:\n",
    "    for val in sublist:\n",
    "        flatten_matrix.append(val)\n",
    "          \n",
    "print(flatten_matrix)"
   ]
  },
  {
   "cell_type": "code",
   "execution_count": 14,
   "id": "04de1118",
   "metadata": {},
   "outputs": [
    {
     "data": {
      "text/plain": [
       "[1, 2, 3, 4, 5, 6, 7, 8, 9]"
      ]
     },
     "execution_count": 14,
     "metadata": {},
     "output_type": "execute_result"
    }
   ],
   "source": [
    "flatten_matrix = [val for sublist in matrix for val in sublist]\n",
    "flatten_matrix"
   ]
  },
  {
   "cell_type": "code",
   "execution_count": 15,
   "id": "60fefdb7",
   "metadata": {},
   "outputs": [
    {
     "name": "stdout",
     "output_type": "stream",
     "text": [
      "['Venus', 'Earth', 'Mars', 'Pluto']\n"
     ]
    }
   ],
   "source": [
    "planets = [['Mercury', 'Venus', 'Earth'], ['Mars', 'Jupiter', 'Saturn'], ['Uranus', 'Neptune', 'Pluto']]\n",
    "  \n",
    "flatten_planets = []\n",
    "  \n",
    "for sublist in planets:\n",
    "    for planet in sublist:\n",
    "          \n",
    "        if len(planet) < 6:\n",
    "            flatten_planets.append(planet)\n",
    "          \n",
    "print(flatten_planets)"
   ]
  },
  {
   "cell_type": "code",
   "execution_count": 42,
   "id": "54ebb350",
   "metadata": {},
   "outputs": [
    {
     "name": "stdout",
     "output_type": "stream",
     "text": [
      "['Venus', 'Earth', 'Mars', 'Pluto']\n"
     ]
    }
   ],
   "source": [
    "\n",
    "# 2-D List of planets\n",
    "planets = [['Mercury', 'Venus', 'Earth'], ['Mars', 'Jupiter', 'Saturn'], ['Uranus', 'Neptune', 'Pluto']]\n",
    "  \n",
    "# Nested List comprehension with an if condition\n",
    "flatten_planets = [planet for sublist in planets for planet in sublist if len(planet) < 6]\n",
    "          \n",
    "print(flatten_planets)"
   ]
  },
  {
   "cell_type": "code",
   "execution_count": 16,
   "id": "a13b3464",
   "metadata": {},
   "outputs": [
    {
     "data": {
      "text/plain": [
       "[1, 2, 3, 4, 5, 6]"
      ]
     },
     "execution_count": 16,
     "metadata": {},
     "output_type": "execute_result"
    }
   ],
   "source": [
    "a = []\n",
    "x = [([1], [2, 3], [4,5,6])]\n",
    "for i in x: # i = ([1], [2, 3], [4,5,6])\n",
    "    for j in i:  # j = [1], [2, 3], [4,5,6]\n",
    "        for z in j:  # z = 1,2,3,4,5,6\n",
    "            a.append(z)\n",
    "a"
   ]
  },
  {
   "cell_type": "code",
   "execution_count": 17,
   "id": "9aada3a4",
   "metadata": {},
   "outputs": [
    {
     "data": {
      "text/plain": [
       "[[[1], [2, 3], [4, 5, 6]]]"
      ]
     },
     "execution_count": 17,
     "metadata": {},
     "output_type": "execute_result"
    }
   ],
   "source": [
    "[[[z for z in j] for j in i] for i in x]"
   ]
  },
  {
   "cell_type": "code",
   "execution_count": 22,
   "id": "0bf6999b",
   "metadata": {},
   "outputs": [
    {
     "data": {
      "text/plain": [
       "['apple : iris',\n",
       " 'apple : rose',\n",
       " 'apple : daisy',\n",
       " 'banana : iris',\n",
       " 'banana : rose',\n",
       " 'banana : daisy',\n",
       " 'orange : iris',\n",
       " 'orange : rose',\n",
       " 'orange : daisy']"
      ]
     },
     "execution_count": 22,
     "metadata": {},
     "output_type": "execute_result"
    }
   ],
   "source": [
    "xList = \"apple banana orange\".split()\n",
    "yList = \"iris rose daisy\".split()\n",
    "result = []\n",
    "for i in xList:\n",
    "    for j in yList:\n",
    "        result.append(i +' : '+ j)\n",
    "result"
   ]
  },
  {
   "cell_type": "code",
   "execution_count": 24,
   "id": "733c7e74",
   "metadata": {},
   "outputs": [
    {
     "data": {
      "text/plain": [
       "['apple : iris',\n",
       " 'apple : rose',\n",
       " 'apple : daisy',\n",
       " 'banana : iris',\n",
       " 'banana : rose',\n",
       " 'banana : daisy',\n",
       " 'orange : iris',\n",
       " 'orange : rose',\n",
       " 'orange : daisy']"
      ]
     },
     "execution_count": 24,
     "metadata": {},
     "output_type": "execute_result"
    }
   ],
   "source": [
    "[i +' : '+ j  for i in xList for j in yList] "
   ]
  },
  {
   "cell_type": "code",
   "execution_count": 25,
   "id": "0c7cdb17",
   "metadata": {},
   "outputs": [
    {
     "data": {
      "text/plain": [
       "[['apple : iris'],\n",
       " ['apple : rose'],\n",
       " ['apple : daisy'],\n",
       " ['banana : iris'],\n",
       " ['banana : rose'],\n",
       " ['banana : daisy'],\n",
       " ['orange : iris'],\n",
       " ['orange : rose'],\n",
       " ['orange : daisy']]"
      ]
     },
     "execution_count": 25,
     "metadata": {},
     "output_type": "execute_result"
    }
   ],
   "source": [
    "[[i +' : '+ j ] for i in xList for j in yList] "
   ]
  },
  {
   "cell_type": "code",
   "execution_count": 33,
   "id": "e1026765",
   "metadata": {},
   "outputs": [
    {
     "data": {
      "text/plain": [
       "['0 --> one',\n",
       " '0 --> two',\n",
       " '0 --> three',\n",
       " '2 --> one',\n",
       " '2 --> two',\n",
       " '2 --> three',\n",
       " '4 --> one',\n",
       " '4 --> two',\n",
       " '4 --> three']"
      ]
     },
     "execution_count": 33,
     "metadata": {},
     "output_type": "execute_result"
    }
   ],
   "source": [
    "result = []\n",
    "numbers = [\"one\", \"two\", \"three\"]\n",
    "for i in range(5):\n",
    "    if i %2 == 0:\n",
    "        for j in numbers:\n",
    "            result.append(str(i) + \" --> \"+ j)\n",
    "result"
   ]
  },
  {
   "cell_type": "code",
   "execution_count": 31,
   "id": "a731eda1",
   "metadata": {},
   "outputs": [
    {
     "data": {
      "text/plain": [
       "['0 --> one',\n",
       " '0 --> two',\n",
       " '0 --> three',\n",
       " '2 --> one',\n",
       " '2 --> two',\n",
       " '2 --> three',\n",
       " '4 --> one',\n",
       " '4 --> two',\n",
       " '4 --> three']"
      ]
     },
     "execution_count": 31,
     "metadata": {},
     "output_type": "execute_result"
    }
   ],
   "source": [
    "[str(i) + \" --> \"+ j for i in range(5) for j in numbers if i%2 == 0]"
   ]
  },
  {
   "cell_type": "markdown",
   "id": "8c2996c6",
   "metadata": {},
   "source": [
    "-------------------"
   ]
  }
 ],
 "metadata": {
  "kernelspec": {
   "display_name": "Python 3 (ipykernel)",
   "language": "python",
   "name": "python3"
  },
  "language_info": {
   "codemirror_mode": {
    "name": "ipython",
    "version": 3
   },
   "file_extension": ".py",
   "mimetype": "text/x-python",
   "name": "python",
   "nbconvert_exporter": "python",
   "pygments_lexer": "ipython3",
   "version": "3.9.13"
  },
  "nbTranslate": {
   "displayLangs": [
    "*"
   ],
   "hotkey": "alt-t",
   "langInMainMenu": true,
   "sourceLang": "en",
   "targetLang": "fr",
   "useGoogleTranslate": true
  },
  "toc": {
   "base_numbering": 1,
   "nav_menu": {},
   "number_sections": true,
   "sideBar": true,
   "skip_h1_title": false,
   "title_cell": "Table of Contents",
   "title_sidebar": "Contents",
   "toc_cell": false,
   "toc_position": {},
   "toc_section_display": true,
   "toc_window_display": false
  }
 },
 "nbformat": 4,
 "nbformat_minor": 5
}
